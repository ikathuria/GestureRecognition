{
 "cells": [
  {
   "cell_type": "markdown",
   "metadata": {},
   "source": [
    "# ASL Letter Recognition"
   ]
  },
  {
   "cell_type": "markdown",
   "metadata": {},
   "source": [
    "Dependencies  \n",
    "`pip install tensorflow`  \n",
    "`pip install tensorflow-object-detection-api`  \n",
    "`pip install opencv-python`"
   ]
  },
  {
   "cell_type": "code",
   "execution_count": 1,
   "metadata": {},
   "outputs": [],
   "source": [
    "import os\n",
    "# model\n",
    "import tensorflow as tf\n",
    "# vizualization\n",
    "from object_detection.utils import config_util\n",
    "from object_detection.protos import pipeline_pb2\n",
    "from google.protobuf import text_format\n",
    "from object_detection.utils import label_map_util\n",
    "from object_detection.utils import visualization_utils as viz_utils\n",
    "from object_detection.builders import model_builder\n",
    "\n",
    "import cv2\n",
    "import numpy as np"
   ]
  },
  {
   "cell_type": "markdown",
   "metadata": {},
   "source": [
    "## Setting up the paths"
   ]
  },
  {
   "cell_type": "code",
   "execution_count": 2,
   "metadata": {},
   "outputs": [],
   "source": [
    "WORKPLACE_PATH = 'Tensorflow/workplace'\n",
    "SCRIPTS_PATH = 'Tensorflow/scripts'\n",
    "APIMODEL_PATH = 'Tensorflow/models'\n",
    "ANNOTATION_PATH = WORKPLACE_PATH + '/annotations'\n",
    "IMAGE_PATH = WORKPLACE_PATH + '/images'\n",
    "MODEL_PATH = WORKPLACE_PATH + '/models'\n",
    "PRETRAINED_MODEL_PATH = WORKPLACE_PATH + '/pre-trained-models'\n",
    "CONFIG_PATH = MODEL_PATH + '/my_ssd_mobnet/pipeline.config'\n",
    "CHECKPOINT_PATH = MODEL_PATH + '/my_ssd_mobnet/'\n",
    "\n",
    "CUSTOM_MODEL_NAME = 'my_ssd_mobnet'"
   ]
  },
  {
   "cell_type": "markdown",
   "metadata": {},
   "source": [
    "## Generate Labels"
   ]
  },
  {
   "cell_type": "code",
   "execution_count": 3,
   "metadata": {},
   "outputs": [],
   "source": [
    "# labels = [\n",
    "#     {'name':'a', 'id':1},\n",
    "#     {'name':'b', 'id':2},\n",
    "#     {'name':'c', 'id':3},\n",
    "#     {'name':'d', 'id':4},\n",
    "#     {'name':'e', 'id':5},\n",
    "#     {'name':'f', 'id':6},\n",
    "#     {'name':'g', 'id':7},\n",
    "#     {'name':'h', 'id':8},\n",
    "#     {'name':'i', 'id':9},\n",
    "#     {'name':'j', 'id':10},\n",
    "#     {'name':'k', 'id':11},\n",
    "#     {'name':'l', 'id':12},\n",
    "#     {'name':'m', 'id':13},\n",
    "#     {'name':'n', 'id':14},\n",
    "#     {'name':'o', 'id':15},\n",
    "#     {'name':'p', 'id':16},\n",
    "#     {'name':'q', 'id':17},\n",
    "#     {'name':'r', 'id':18},\n",
    "#     {'name':'s', 'id':19},\n",
    "#     {'name':'t', 'id':20},\n",
    "#     {'name':'u', 'id':21},\n",
    "#     {'name':'v', 'id':22},\n",
    "#     {'name':'w', 'id':23},\n",
    "#     {'name':'x', 'id':24},\n",
    "#     {'name':'y', 'id':25},\n",
    "#     {'name':'z', 'id':26},\n",
    "# ]"
   ]
  },
  {
   "cell_type": "code",
   "execution_count": 4,
   "metadata": {},
   "outputs": [],
   "source": [
    "# with open(os.path.join(ANNOTATION_PATH, 'label_map.pbtxt'), 'w') as f:\n",
    "#     for label in labels:\n",
    "#         f.write('item { \\n')\n",
    "#         f.write('\\tname:\\'{}\\'\\n'.format(label['name']))\n",
    "#         f.write('\\tid:{}\\n'.format(label['id']))\n",
    "#         f.write('}\\n')\n",
    "# print('Generated label map')"
   ]
  },
  {
   "cell_type": "markdown",
   "metadata": {},
   "source": [
    "## Generate TF records"
   ]
  },
  {
   "cell_type": "code",
   "execution_count": 5,
   "metadata": {
    "scrolled": true
   },
   "outputs": [],
   "source": [
    "# if os.name == 'posix':\n",
    "#     !python3 {SCRIPTS_PATH + '/generate_tfrecord.py'} -x {IMAGE_PATH + '/train'} -l {ANNOTATION_PATH + '/label_map.pbtxt'} -o {ANNOTATION_PATH + '/train.record'}\n",
    "#     !python3 {SCRIPTS_PATH + '/generate_tfrecord.py'} -x {IMAGE_PATH + '/test'} -l {ANNOTATION_PATH + '/label_map.pbtxt'} -o {ANNOTATION_PATH + '/test.record'}\n",
    "# else:\n",
    "#     !python {SCRIPTS_PATH + '/generate_tfrecord.py'} -x {IMAGE_PATH + '/train'} -l {ANNOTATION_PATH + '/label_map.pbtxt'} -o {ANNOTATION_PATH + '/train.record'}\n",
    "#     !python {SCRIPTS_PATH + '/generate_tfrecord.py'} -x {IMAGE_PATH + '/test'} -l {ANNOTATION_PATH + '/label_map.pbtxt'} -o {ANNOTATION_PATH + '/test.record'}"
   ]
  },
  {
   "cell_type": "markdown",
   "metadata": {},
   "source": [
    "## Download TF models"
   ]
  },
  {
   "cell_type": "code",
   "execution_count": 6,
   "metadata": {},
   "outputs": [],
   "source": [
    "# !cd Tensorflow && git clone https://github.com/tensorflow/models"
   ]
  },
  {
   "cell_type": "code",
   "execution_count": 7,
   "metadata": {},
   "outputs": [],
   "source": [
    "# !cd {PRETRAINED_MODEL_PATH} && tar -zxvf ssd_mobilenet_v2_fpnlite_320x320_coco17_tpu-8.tar.gz"
   ]
  },
  {
   "cell_type": "markdown",
   "metadata": {},
   "source": [
    "## Setting up pipeline config"
   ]
  },
  {
   "cell_type": "code",
   "execution_count": 8,
   "metadata": {},
   "outputs": [],
   "source": [
    "# !mkdir {MODEL_PATH + CUSTOM_MODEL_NAME}\n",
    "# !cp {PRETRAINED_MODEL_PATH + '/ssd_mobilenet_v2_fpnlite_320x320_coco17_tpu-8/pipeline.config'} {MODEL_PATH + '/' + CUSTOM_MODEL_NAME}"
   ]
  },
  {
   "cell_type": "markdown",
   "metadata": {},
   "source": [
    "**model.ssd.num_classes** = 26\n",
    "\n",
    "**train_config.batch_size** = 4\n",
    "\n",
    "**train_config.fine_tune_checkpoint** = 'Tensorflow/workplace/pre-trained-models/ssd_mobilenet_v2_fpnlite_320x320_coco17_tpu-8/checkpoint/ckpt-0'\n",
    "\n",
    "**train_config.fine_tune_checkpoint_type** = \"detection\"\n",
    "\n",
    "**train_input_reader.label_map_path** = ANNOTATION_PATH + '/label_map.pbtxt'\n",
    "\n",
    "**train_input_reader.tf_record_input_reader.input_path[:]** = [ANNOTATION_PATH + '/train.record']\n",
    "\n",
    "**eval_input_reader[0].label_map_path** = ANNOTATION_PATH + '/label_map.pbtxt'\n",
    "\n",
    "**eval_input_reader[0].tf_record_input_reader.input_path[:]** = [ANNOTATION_PATH + '/test.record']"
   ]
  },
  {
   "cell_type": "markdown",
   "metadata": {},
   "source": [
    "## Training the model"
   ]
  },
  {
   "cell_type": "code",
   "execution_count": 9,
   "metadata": {},
   "outputs": [
    {
     "name": "stdout",
     "output_type": "stream",
     "text": [
      "--- for posix ---\n",
      "python3 Tensorflow/models/research/object_detection/model_main_tf2.py --model_dir=Tensorflow/workplace/models/my_ssd_mobnet --pipeline_config_path=Tensorflow/workplace/models/my_ssd_mobnet/pipeline.config --num_train_steps=104000\n",
      "\n",
      "--- else ---\n",
      "python Tensorflow/models/research/object_detection/model_main_tf2.py --model_dir=Tensorflow/workplace/models/my_ssd_mobnet --pipeline_config_path=Tensorflow/workplace/models/my_ssd_mobnet/pipeline.config --num_train_steps=50000\n"
     ]
    }
   ],
   "source": [
    "print(\"--- for posix ---\")\n",
    "print(f\"\"\"python3 {APIMODEL_PATH}/research/object_detection/model_main_tf2.py --model_dir={MODEL_PATH}/{CUSTOM_MODEL_NAME} --pipeline_config_path={MODEL_PATH}/{CUSTOM_MODEL_NAME}/pipeline.config --num_train_steps=104000\"\"\")\n",
    "\n",
    "print(\"\\n--- else ---\")\n",
    "print(f\"\"\"python {APIMODEL_PATH}/research/object_detection/model_main_tf2.py --model_dir={MODEL_PATH}/{CUSTOM_MODEL_NAME} --pipeline_config_path={MODEL_PATH}/{CUSTOM_MODEL_NAME}/pipeline.config --num_train_steps=50000\"\"\")"
   ]
  },
  {
   "cell_type": "markdown",
   "metadata": {},
   "source": [
    "## Vizualization"
   ]
  },
  {
   "cell_type": "code",
   "execution_count": 10,
   "metadata": {},
   "outputs": [
    {
     "name": "stdout",
     "output_type": "stream",
     "text": [
      "Enter latest checkpoint: 151\n"
     ]
    }
   ],
   "source": [
    "num = int(input(\"Enter latest checkpoint: \"))"
   ]
  },
  {
   "cell_type": "code",
   "execution_count": 11,
   "metadata": {
    "scrolled": true
   },
   "outputs": [],
   "source": [
    "# Load pipeline config and build a detection model\n",
    "configs = config_util.get_configs_from_pipeline_file(CONFIG_PATH)\n",
    "detection_model = model_builder.build(model_config=configs['model'], is_training=False)\n",
    "\n",
    "# Restore checkpoint\n",
    "ckpt = tf.compat.v2.train.Checkpoint(model = detection_model)\n",
    "ckpt.restore(os.path.join(CHECKPOINT_PATH, f'ckpt-{num}')).expect_partial()\n",
    "\n",
    "@tf.function\n",
    "def detect_fn(image):\n",
    "    image, shapes = detection_model.preprocess(image)\n",
    "    prediction_dict = detection_model.predict(image, shapes)\n",
    "    detections = detection_model.postprocess(prediction_dict, shapes)\n",
    "    return detections"
   ]
  },
  {
   "cell_type": "code",
   "execution_count": 12,
   "metadata": {},
   "outputs": [],
   "source": [
    "category_index = label_map_util.create_category_index_from_labelmap(ANNOTATION_PATH + '/label_map.pbtxt')"
   ]
  },
  {
   "cell_type": "code",
   "execution_count": 27,
   "metadata": {
    "scrolled": true
   },
   "outputs": [],
   "source": [
    "cap = cv2.VideoCapture(0)\n",
    "width = int(cap.get(cv2.CAP_PROP_FRAME_WIDTH))\n",
    "height = int(cap.get(cv2.CAP_PROP_FRAME_HEIGHT))\n",
    "\n",
    "while True: \n",
    "    ret, frame = cap.read()\n",
    "    image_np = np.array(frame)\n",
    "    \n",
    "    input_tensor = tf.convert_to_tensor(np.expand_dims(image_np, 0), dtype=tf.float32)\n",
    "    detections = detect_fn(input_tensor)\n",
    "    \n",
    "    num_detections = int(detections.pop('num_detections'))\n",
    "    detections = {key: value[0, :num_detections].numpy()\n",
    "                  for key, value in detections.items()}\n",
    "    detections['num_detections'] = num_detections\n",
    "\n",
    "    # detection_classes should be ints.\n",
    "    detections['detection_classes'] = detections['detection_classes'].astype(np.int64)\n",
    "\n",
    "    label_id_offset = 1\n",
    "    image_np_with_detections = image_np.copy()\n",
    "\n",
    "    viz_utils.visualize_boxes_and_labels_on_image_array(\n",
    "                image_np_with_detections,\n",
    "                detections['detection_boxes'],\n",
    "                detections['detection_classes'] + label_id_offset,\n",
    "                detections['detection_scores'],\n",
    "                category_index,\n",
    "                use_normalized_coordinates=True,\n",
    "                max_boxes_to_draw = 2,\n",
    "                min_score_thresh = .3,\n",
    "                agnostic_mode = False)\n",
    "\n",
    "    cv2.imshow('object detection',  cv2.resize(image_np_with_detections, (1000, 800)))\n",
    "    \n",
    "    if cv2.waitKey(1) & 0xFF == ord('q'):\n",
    "        break\n",
    "\n",
    "cap.release()\n",
    "cv2.destroyAllWindows()"
   ]
  },
  {
   "cell_type": "markdown",
   "metadata": {},
   "source": [
    "### For 20,000 steps\n",
    "\n",
    "| Letters | Minimum | Maximum |\n",
    "|---------|---------|---------| \n",
    "| a       | 54      | 65      |\n",
    "| b       | 38      | 80      |\n",
    "| c       | 40      | 50      |\n",
    "| d       | 40      | 55      |\n",
    "| e       | 40      | 60      |\n",
    "| f       | 40      | 55      |\n",
    "| g       | 74      | 86      |\n",
    "| h       | 47      | 71      |\n",
    "| i       | 71      | 90      |\n",
    "| j       | 53      | 73      |\n",
    "| k       | 36      | 60      |\n",
    "| l       | 64      | 76      |\n",
    "| m       | 50      | 76      |\n",
    "| n       | 55      | 67      |\n",
    "| o       | 41      | 62      |\n",
    "| p       | 40      | 54      |\n",
    "| q       | 36      | 75      |\n",
    "| r       | 31      | 42      |\n",
    "| s       | 0       | 0       |\n",
    "| t       | 48      | 71      |\n",
    "| u       | 55      | 72      |\n",
    "| v       | 32      | 50      |\n",
    "| w       | 0       | 0       |\n",
    "| x       | 41      | 64      |\n",
    "| y       | 36      | 54      |\n",
    "| z       | 71      | 90      |"
   ]
  },
  {
   "cell_type": "markdown",
   "metadata": {},
   "source": [
    "### For 50,000 steps\n",
    "\n",
    "| Letters | Minimum | Maximum |\n",
    "|---------|---------|---------| \n",
    "| a       | 53      | 89      |\n",
    "| b       | 87      | 96      |\n",
    "| c       | 33      | 71      |\n",
    "| d       | 33      | 83      |\n",
    "| e       | 68      | 80      |\n",
    "| f       | 70      | 85      |\n",
    "| g       | 48      | 95      |\n",
    "| h       | 70      | 89      |\n",
    "| i       | 66      | 93      |\n",
    "| j       | 55      | 82      |\n",
    "| k       | 86      | 91      |\n",
    "| l       | 00      | 00      |\n",
    "| m       | 92      | 95      |\n",
    "| n       | 84      | 91      |\n",
    "| o       | 47      | 60      |\n",
    "| p       | 54      | 95      |\n",
    "| q       | 32      | 65      |\n",
    "| r       | 33      | 70      |\n",
    "| s       | 84      | 92      |\n",
    "| t       | 75      | 96      |\n",
    "| u       | 75      | 96      |\n",
    "| v       | 44      | 71      |\n",
    "| w       | 87      | 94      |\n",
    "| x       | 65      | 80      |\n",
    "| y       | 72      | 96      |\n",
    "| z       | 55      | 70      |"
   ]
  },
  {
   "cell_type": "markdown",
   "metadata": {},
   "source": [
    "### For 80,000 steps\n",
    "\n",
    "| Letters | Minimum | Maximum |\n",
    "|---------|---------|---------| \n",
    "| a       | 94      | 98      |\n",
    "| b       | 84      | 94      |\n",
    "| c       | 85      | 96      |\n",
    "| d       | 91      | 96      |\n",
    "| e       | 80      | 94      |\n",
    "| f       | 91      | 98      |\n",
    "| g       | 70      | 94      |\n",
    "| h       | 94      | 97      |\n",
    "| i       | 61      | 80      |\n",
    "| j       | 83      | 94      |\n",
    "| k       | 79      | 87      |\n",
    "| l       | 93      | 97      |\n",
    "| m       | 82      | 93      |\n",
    "| n       | 88      | 95      |\n",
    "| o       | 77      | 97      |\n",
    "| p       | 93      | 98      |\n",
    "| q       | 81      | 98      |\n",
    "| r       | 77      | 95      |\n",
    "| s       | 64      | 91      |\n",
    "| t       | 91      | 97      |\n",
    "| u       | 71      | 96      |\n",
    "| v       | 91      | 97      |\n",
    "| w       | 78      | 94      |\n",
    "| x       | 78      | 91      |\n",
    "| y       | 87      | 96      |\n",
    "| z       | 91      | 97      |\n",
    "\n",
    "### For 104,000 steps\n",
    "\n",
    "| Letters | WF      |\n",
    "|---------|---------|\n",
    "| a       | 80      |\n",
    "| b       | 80      |\n",
    "| c       | 85      |\n",
    "| d       | 75      |\n",
    "| e       | 70      |\n",
    "| f       | 85      | \n",
    "| g       | 75      |\n",
    "| h       | 85      | \n",
    "| i       | 70      | \n",
    "| j       | 90      | \n",
    "| k       | 80      | \n",
    "| l       | 90      | \n",
    "| m       | 85      | \n",
    "| n       | 75      | \n",
    "| o       | 80      |\n",
    "| p       | 80      | \n",
    "| q       | 80      | \n",
    "| r       | 80      | \n",
    "| s       | 65      | \n",
    "| t       | 85      | \n",
    "| u       | 75      | \n",
    "| v       | 70      |\n",
    "| w       | 85      |\n",
    "| x       | 70      |\n",
    "| y       | 85      |\n",
    "| z       | 85      |\n",
    "\n",
    "\n",
    "\n",
    "### For 150,000 steps\n",
    "\n",
    "| Letters | With Face |\n",
    "|---------|---------|---------| \n",
    "| a       | 90      | 98      |\n",
    "| b       | 90      | 94      |\n",
    "| c       | 90      | 96      |\n",
    "| d       | 85      | 96      |\n",
    "| e       | 85      | 94      |\n",
    "| f       | 85      | 98      |\n",
    "| g       | 80      | 94      |\n",
    "| h       | 75      | 97      |\n",
    "| i       | 80      | 80      |\n",
    "| j       | 85      | 94      |\n",
    "| k       | 75      | 87      |\n",
    "| l       | 85      | 97      |\n",
    "| m       | 75      | 93      |\n",
    "| n       | 85      | 95      |\n",
    "| o       | 85      | 97      |\n",
    "| p       | 75      | 98      |\n",
    "| q       | 85      | 98      |\n",
    "| r       | 85      | 95      |\n",
    "| s       | 75      | 91      |\n",
    "| t       | 90      | 97      |\n",
    "| u       | 85      | 96      |\n",
    "| v       | 0       | 97      |\n",
    "| w       | 95      |\n",
    "| x       | 70      |\n",
    "| y       | 90      |\n",
    "| z       | 85      |"
   ]
  },
  {
   "cell_type": "code",
   "execution_count": null,
   "metadata": {},
   "outputs": [],
   "source": []
  }
 ],
 "metadata": {
  "kernelspec": {
   "display_name": "Python 3",
   "language": "python",
   "name": "python3"
  },
  "language_info": {
   "codemirror_mode": {
    "name": "ipython",
    "version": 3
   },
   "file_extension": ".py",
   "mimetype": "text/x-python",
   "name": "python",
   "nbconvert_exporter": "python",
   "pygments_lexer": "ipython3",
   "version": "3.8.5"
  }
 },
 "nbformat": 4,
 "nbformat_minor": 4
}
