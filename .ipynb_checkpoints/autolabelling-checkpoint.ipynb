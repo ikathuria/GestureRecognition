{
 "cells": [
  {
   "cell_type": "markdown",
   "metadata": {},
   "source": [
    "# AutoLabelling"
   ]
  },
  {
   "cell_type": "code",
   "execution_count": 1,
   "metadata": {},
   "outputs": [],
   "source": [
    "import os\n",
    "import xml.etree.ElementTree as gfg\n",
    "import numpy as np\n",
    "import cv2\n",
    "from sklearn.cluster import KMeans\n",
    "import mediapipe as mp\n",
    "import matplotlib.pyplot as plt\n",
    "\n",
    "mp_drawing = mp.solutions.drawing_utils\n",
    "mp_hands = mp.solutions.hands"
   ]
  },
  {
   "cell_type": "code",
   "execution_count": 2,
   "metadata": {},
   "outputs": [],
   "source": [
    "def make_xml(folderName, imgName, fullPath, width, height, label, coords):\n",
    "    \"\"\"Making xml files of the given format.\n",
    "\n",
    "    <annotation>\n",
    "        <folder> {folderName} </folder>\n",
    "        <filename> {imgName} </filename>\n",
    "        <path> {fullPath} </path>\n",
    "        <source>\n",
    "            <database> Unknown </database>\n",
    "        </source>\n",
    "        <size>\n",
    "            <width> {width} </width>\n",
    "            <height> {height} </height>\n",
    "            <depth> 3 </depth>\n",
    "        </size>\n",
    "        <segmented> 0 </segmented>\n",
    "        <object>\n",
    "            <name> {label} </name>\n",
    "            <pose> Unspecified </pose>\n",
    "            <truncated> 0 </truncated>\n",
    "            <difficult> 0 </difficult>\n",
    "            <bndbox>\n",
    "                <xmin> {coords[0] = xmin} </xmin>\n",
    "                <ymin> {coords[1] = ymin} </ymin>\n",
    "                <xmax> {coords[2] = xmax} </xmax>\n",
    "                <ymax> {coords[3] = ymax} </ymax>\n",
    "            </bndbox>\n",
    "        </object>\n",
    "    </annotation>\n",
    "    \"\"\"\n",
    "    xmin = coords[0]\n",
    "    ymin = coords[1]\n",
    "    xmax = coords[2]\n",
    "    ymax = coords[3]\n",
    "\n",
    "    root = gfg.Element('annotation')\n",
    "\n",
    "    e1 = gfg.Element('folder')\n",
    "    e1.text = folderName\n",
    "    root.append(e1)\n",
    "\n",
    "    e2 = gfg.Element('filename')\n",
    "    e2.text = imgName\n",
    "    root.append(e2)\n",
    "\n",
    "    e3 = gfg.Element('path')\n",
    "    e3.text = fullPath\n",
    "    root.append(e3)\n",
    "    \n",
    "    e4 = gfg.Element('source')\n",
    "    root.append(e4)\n",
    "    e41 = gfg.SubElement(e4, 'database')\n",
    "    e41.text = 'Unknown'\n",
    "    \n",
    "    e5 = gfg.Element('size')\n",
    "    root.append(e5)\n",
    "    e51 = gfg.SubElement(e5, 'width')\n",
    "    e51.text = f'{width}'\n",
    "    e52 = gfg.SubElement(e5, 'height')\n",
    "    e52.text = f'{height}'\n",
    "    e53 = gfg.SubElement(e5, 'depth')\n",
    "    e53.text = '3'\n",
    "\n",
    "    e6 = gfg.Element('segmented')\n",
    "    e6.text = '0'\n",
    "    root.append(e6)\n",
    "    \n",
    "    e7 = gfg.Element('object')\n",
    "    root.append(e7)\n",
    "    e71 = gfg.SubElement(e7, 'name')\n",
    "    e71.text = label\n",
    "    e72 = gfg.SubElement(e7, 'pose')\n",
    "    e72.text = 'Unspecified'\n",
    "    e73 = gfg.SubElement(e7, 'truncated')\n",
    "    e73.text = '0'\n",
    "    e74 = gfg.SubElement(e7, 'difficult')\n",
    "    e74.text = '0'\n",
    "    e75 = gfg.SubElement(e7, 'bndbox')\n",
    "    e751 = gfg.SubElement(e75, 'xmin')\n",
    "    e751.text = f'{xmin}'\n",
    "    e752 = gfg.SubElement(e75, 'ymin')\n",
    "    e752.text = f'{ymin}'\n",
    "    e753 = gfg.SubElement(e75, 'xmax')\n",
    "    e753.text = f'{xmax}'\n",
    "    e754 = gfg.SubElement(e75, 'ymax')\n",
    "    e754.text = f'{ymax}'\n",
    "\n",
    "    tree = gfg.ElementTree(root)\n",
    "\n",
    "    save_path_file = f\"/home/ishani/Desktop/Github/GestureRecognition/Tensorflow/workplace/images/{folderName}/{imgName.replace('jpg','xml')}\"\n",
    "\n",
    "    with open(save_path_file, \"wb\") as files:\n",
    "        tree.write(files)"
   ]
  },
  {
   "cell_type": "code",
   "execution_count": 3,
   "metadata": {},
   "outputs": [],
   "source": [
    "def get_hands(image, x, y):\n",
    "    minx = min(x)\n",
    "    miny = min(y)\n",
    "    maxx = max(x)\n",
    "    maxy = max(y)\n",
    "    cv2.rectangle(image, (minx-25, miny-25), (maxx+25, maxy+25), (255, 0, 0), 2)\n",
    "    return image, [minx-25, miny-25, maxx+25, maxy+25]"
   ]
  },
  {
   "cell_type": "code",
   "execution_count": 4,
   "metadata": {},
   "outputs": [
    {
     "data": {
      "text/plain": [
       "'/home/ishani/Desktop/Github/GestureRecognition/Tensorflow/workplace/images/'"
      ]
     },
     "execution_count": 4,
     "metadata": {},
     "output_type": "execute_result"
    }
   ],
   "source": [
    "current_dir = os.getcwd()\n",
    "current_dir = os.path.join(current_dir, \"Tensorflow/workplace/images/\")\n",
    "current_dir"
   ]
  },
  {
   "cell_type": "code",
   "execution_count": 14,
   "metadata": {},
   "outputs": [],
   "source": [
    "labels = ['one', 'two', 'three', 'four', 'five',\n",
    "          'six', 'seven', 'eight', 'nine', 'zero',\n",
    "          'up', 'down', 'left', 'right', 'fist', 'ok']\n",
    "\n",
    "dirs = ['test']"
   ]
  },
  {
   "cell_type": "code",
   "execution_count": 6,
   "metadata": {},
   "outputs": [],
   "source": [
    "choice = 'n'\n",
    "\n",
    "if choice.startswith('y'):\n",
    "    for label in labels:\n",
    "        path = os.path.join(current_dir, label)\n",
    "\n",
    "        for img in os.listdir(path):\n",
    "            img_path = os.path.join(path, img)\n",
    "\n",
    "            changed = label + img\n",
    "            changed_path = os.path.join(path, changed)\n",
    "\n",
    "            os.rename(img_path, changed_path)\n",
    "        print(f'Renaming finshed for {label}')"
   ]
  },
  {
   "cell_type": "code",
   "execution_count": 15,
   "metadata": {
    "scrolled": false
   },
   "outputs": [],
   "source": [
    "hands = mp_hands.Hands(static_image_mode=True, max_num_hands=1,\n",
    "                       min_detection_confidence=0.3, min_tracking_confidence=0.3)\n",
    "\n",
    "for folderName in dirs:\n",
    "    path = os.path.join(current_dir, folderName)\n",
    "    for img in os.listdir(path):\n",
    "        img_path = os.path.join(path, img)\n",
    "        image = cv2.imread(img_path)\n",
    "\n",
    "        height, width, channels = image.shape\n",
    "\n",
    "        image = cv2.cvtColor(image, cv2.COLOR_BGR2RGB)\n",
    "        core_image = image\n",
    "\n",
    "        image.flags.writeable = False\n",
    "\n",
    "        results = hands.process(image)\n",
    "\n",
    "        image.flags.writeable = True\n",
    "        image = cv2.cvtColor(image, cv2.COLOR_RGB2BGR)\n",
    "        if results.multi_hand_landmarks:\n",
    "            for hand_landmarks in results.multi_hand_landmarks:\n",
    "                mp_drawing.draw_landmarks(image, hand_landmarks, mp_hands.HAND_CONNECTIONS)\n",
    "\n",
    "                landmarks = hand_landmarks.landmark\n",
    "                coords_x = []\n",
    "                coords_y = []\n",
    "\n",
    "                for l in landmarks:\n",
    "                    coords_x.append(int(l.x*width))\n",
    "                    coords_y.append(int(l.y*height))\n",
    "\n",
    "                bounded_hands = get_hands(core_image, coords_x, coords_y)\n",
    "                \n",
    "                label = img[:img.index('0')]\n",
    "\n",
    "                make_xml(folderName, img, img_path, width, height, label, bounded_hands[1])\n",
    "                #fig, ax = plt.subplots()\n",
    "                #ax.imshow(bounded_hands[0])"
   ]
  },
  {
   "cell_type": "code",
   "execution_count": null,
   "metadata": {},
   "outputs": [],
   "source": []
  }
 ],
 "metadata": {
  "kernelspec": {
   "display_name": "Python 3",
   "language": "python",
   "name": "python3"
  },
  "language_info": {
   "codemirror_mode": {
    "name": "ipython",
    "version": 3
   },
   "file_extension": ".py",
   "mimetype": "text/x-python",
   "name": "python",
   "nbconvert_exporter": "python",
   "pygments_lexer": "ipython3",
   "version": "3.8.5"
  }
 },
 "nbformat": 4,
 "nbformat_minor": 4
}
